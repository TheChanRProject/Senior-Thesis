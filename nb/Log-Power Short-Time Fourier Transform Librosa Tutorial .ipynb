{
 "cells": [
  {
   "cell_type": "code",
   "execution_count": 1,
   "metadata": {},
   "outputs": [],
   "source": [
    "import numpy as np\n",
    "import matplotlib.pyplot as plt \n",
    "import matplotlib.style as ms\n",
    "ms.use('seaborn-muted')\n",
    "%matplotlib inline\n",
    "import librosa \n",
    "import librosa.display\n",
    "import IPython.display as ipd \n",
    "from jupyterthemes import jtplot\n",
    "jtplot.style(theme='oceans16')  "
   ]
  },
  {
   "cell_type": "markdown",
   "metadata": {},
   "source": [
    "# Mel Spectrogram"
   ]
  },
  {
   "cell_type": "code",
   "execution_count": null,
   "metadata": {},
   "outputs": [],
   "source": [
    "y1, sr1 = librosa.load(\"../music_files/samples/pandit-hari-bhairavi-extract.mp3\")\n",
    "y2, sr2 = librosa.load(\"../music_files/samples/pandit-hari-todi-extract.mp3\") \n",
    "\n",
    "S1 = librosa.feature.melspectrogram(y1, sr=sr1, n_mels=128)\n",
    "log_S1 = librosa.power_to_db(S1, ref=np.max) \n",
    "\n",
    "# Make a new plot\n",
    "\n",
    "plt.figure(figsize=(15,15)) \n",
    "librosa.display.specshow(log_S1, sr=sr1, x_axis = 'time', y_axis= 'mel') \n",
    "plt.title(\"Mel Power Spectrogram for Raag Bhairavi\") \n",
    "plt.colorbar(format='%+02.0f dB') \n"
   ]
  }
 ],
 "metadata": {
  "kernelspec": {
   "display_name": "Python 3",
   "language": "python",
   "name": "python3"
  },
  "language_info": {
   "codemirror_mode": {
    "name": "ipython",
    "version": 3
   },
   "file_extension": ".py",
   "mimetype": "text/x-python",
   "name": "python",
   "nbconvert_exporter": "python",
   "pygments_lexer": "ipython3",
   "version": "3.6.8"
  },
  "nbTranslate": {
   "displayLangs": [
    "*"
   ],
   "hotkey": "alt-t",
   "langInMainMenu": true,
   "sourceLang": "en",
   "targetLang": "fr",
   "useGoogleTranslate": true
  }
 },
 "nbformat": 4,
 "nbformat_minor": 2
}
