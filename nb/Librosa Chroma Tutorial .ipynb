{
 "cells": [
  {
   "cell_type": "markdown",
   "metadata": {},
   "source": [
    "# Chromagram Tutorial "
   ]
  },
  {
   "cell_type": "code",
   "execution_count": 1,
   "metadata": {},
   "outputs": [],
   "source": [
    "import numpy as np\n",
    "import matplotlib.pyplot as plt \n",
    "import matplotlib.style as ms\n",
    "ms.use('seaborn-muted')\n",
    "%matplotlib inline\n",
    "import librosa \n",
    "import librosa.display\n",
    "import IPython.display as ipd "
   ]
  },
  {
   "cell_type": "code",
   "execution_count": 13,
   "metadata": {},
   "outputs": [
    {
     "name": "stdout",
     "output_type": "stream",
     "text": [
      "['/Users/rchatter/Desktop/DS/Python/Senior-Thesis/music_files/samples/pandit-hari-bhairavi-extract.mp3', '/Users/rchatter/Desktop/DS/Python/Senior-Thesis/music_files/samples/pandit-hari-todi-extract.mp3']\n"
     ]
    }
   ],
   "source": [
    "music_file = open(\"../src/text_files/music_sample_paths.txt\", 'r') \n",
    "\n",
    "files = [i[:-1] for i in music_file.readlines()] \n",
    "print(files)  \n",
    "\n",
    "from jupyterthemes import jtplot\n",
    "jtplot.style(theme='oceans16') \n",
    "\n",
    "# def chroma(file, image_name): \n",
    "#     y, sr = librosa.load(file)\n",
    "#     ipd.Audio(y, sr) \n",
    "#     chromagram = librosa.feature.chroma_cqt(y=y, sr=sr)\n",
    "#     plt.figure(figsize=(15,15))\n",
    "#     librosa.display.specshow(chromagram, x_axis='time', y_axis='chroma', vmin=0, vmax=1) \n",
    "#     plt.title(f\"Chromagram of Recording {file[-30:]}\")\n",
    "#     plt.colorbar()\n",
    "#     plt.tight_layout() \n",
    "#     plt.savefig(image_name) \n",
    "    \n",
    "# chroma(files[0], 'bhairavi_chroma.png') "
   ]
  },
  {
   "cell_type": "code",
   "execution_count": null,
   "metadata": {},
   "outputs": [],
   "source": []
  }
 ],
 "metadata": {
  "kernelspec": {
   "display_name": "Python 3",
   "language": "python",
   "name": "python3"
  },
  "language_info": {
   "codemirror_mode": {
    "name": "ipython",
    "version": 3
   },
   "file_extension": ".py",
   "mimetype": "text/x-python",
   "name": "python",
   "nbconvert_exporter": "python",
   "pygments_lexer": "ipython3",
   "version": "3.6.8"
  },
  "nbTranslate": {
   "displayLangs": [
    "*"
   ],
   "hotkey": "alt-t",
   "langInMainMenu": true,
   "sourceLang": "en",
   "targetLang": "fr",
   "useGoogleTranslate": true
  }
 },
 "nbformat": 4,
 "nbformat_minor": 2
}
